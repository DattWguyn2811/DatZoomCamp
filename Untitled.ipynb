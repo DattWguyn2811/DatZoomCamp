{
 "cells": [
  {
   "cell_type": "code",
   "execution_count": 2,
   "id": "efb95958-9c9d-4da1-9ef4-5fe6c16ae09b",
   "metadata": {},
   "outputs": [
    {
     "name": "stdout",
     "output_type": "stream",
     "text": [
      "Hello world in Codespaces\n"
     ]
    }
   ],
   "source": [
    "print('Hello world in Codespaces')"
   ]
  },
  {
   "cell_type": "code",
   "execution_count": null,
   "id": "3fec0664-e4a4-4758-846b-29a497df428a",
   "metadata": {},
   "outputs": [],
   "source": []
  }
 ],
 "metadata": {
  "kernelspec": {
   "display_name": "Python 3 (ipykernel)",
   "language": "python",
   "name": "python3"
  },
  "language_info": {
   "codemirror_mode": {
    "name": "ipython",
    "version": 3
   },
   "file_extension": ".py",
   "mimetype": "text/x-python",
   "name": "python",
   "nbconvert_exporter": "python",
   "pygments_lexer": "ipython3",
   "version": "3.12.1"
  }
 },
 "nbformat": 4,
 "nbformat_minor": 5
}
